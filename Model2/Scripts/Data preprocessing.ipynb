{
 "cells": [
  {
   "cell_type": "code",
   "execution_count": 1,
   "id": "481a12c7",
   "metadata": {},
   "outputs": [],
   "source": [
    "import csv\n",
    "from collections import Counter\n",
    "\n",
    "# Function to process the input file and generate the required data structure\n",
    "def process_file(file_path):\n",
    "    data = []\n",
    "    with open(file_path, 'r') as file:\n",
    "        for line in file:\n",
    "            parts = line.strip().split()\n",
    "            address = parts[0].replace('_ext.sol', '')\n",
    "            classes = parts[1:]\n",
    "            class_counts = Counter(classes)\n",
    "            data.append((address, class_counts))\n",
    "    return data\n",
    "\n",
    "# Function to write the processed data to a CSV file\n",
    "def write_to_csv(data, output_file):\n",
    "    # Extract all unique class names\n",
    "    all_classes = set()\n",
    "    for _, class_counts in data:\n",
    "        all_classes.update(class_counts.keys())\n",
    "\n",
    "    # Create a sorted list of class names for consistent column order\n",
    "    sorted_classes = sorted(all_classes)\n",
    "\n",
    "    with open(output_file, 'w', newline='') as csvfile:\n",
    "        writer = csv.writer(csvfile)\n",
    "        # Write the header row\n",
    "        header = ['Address'] + sorted_classes\n",
    "        writer.writerow(header)\n",
    "\n",
    "        # Write the data rows\n",
    "        for address, class_counts in data:\n",
    "            row = [address] + [class_counts.get(cls, 0) for cls in sorted_classes]\n",
    "            writer.writerow(row)\n",
    "\n",
    "# Main function to execute the script\n",
    "def main():\n",
    "    input_file = r'C:\\Users\\INTEL\\Desktop\\References\\Data\\ScrawlD-main\\ScrawlD-main\\data\\scrawld_majority_all.txt'  # Change this to your input file name\n",
    "    output_file = 'address_vul.csv'  # Change this to your desired output file name\n",
    "\n",
    "    data = process_file(input_file)\n",
    "    write_to_csv(data, output_file)\n",
    "\n",
    "if __name__ == '__main__':\n",
    "    main()\n"
   ]
  },
  {
   "cell_type": "markdown",
   "id": "e5ad5496",
   "metadata": {},
   "source": [
    "address - vulnerabilities"
   ]
  },
  {
   "cell_type": "code",
   "execution_count": 2,
   "id": "fc283035",
   "metadata": {},
   "outputs": [
    {
     "name": "stdout",
     "output_type": "stream",
     "text": [
      "Number of addresses with no vulnerabilities: 0\n"
     ]
    }
   ],
   "source": [
    "def count_no_vulnerabilities(file_path):\n",
    "    no_vuln_count = 0\n",
    "    with open(file_path, 'r') as file:\n",
    "        for line in file:\n",
    "            parts = line.strip().split()\n",
    "            classes = parts[1:]\n",
    "            if not classes:  # No vulnerabilities if the list is empty\n",
    "                no_vuln_count += 1\n",
    "    return no_vuln_count\n",
    "\n",
    "def main():\n",
    "    input_file = r'C:\\Users\\INTEL\\Desktop\\References\\Data\\ScrawlD-main\\ScrawlD-main\\data\\scrawld_majority_all.txt'  # Change this to your input file name\n",
    "    no_vuln_count = count_no_vulnerabilities(input_file)\n",
    "    print(f'Number of addresses with no vulnerabilities: {no_vuln_count}')\n",
    "\n",
    "if __name__ == '__main__':\n",
    "    main()\n"
   ]
  },
  {
   "cell_type": "code",
   "execution_count": 3,
   "id": "b28e60f2",
   "metadata": {},
   "outputs": [
    {
     "name": "stdout",
     "output_type": "stream",
     "text": [
      "Total number of lines: 5664\n",
      "Number of addresses with no vulnerabilities: 0\n"
     ]
    }
   ],
   "source": [
    "def count_no_vulnerabilities_and_lines(file_path):\n",
    "    no_vuln_count = 0\n",
    "    total_lines = 0\n",
    "    with open(file_path, 'r') as file:\n",
    "        for line in file:\n",
    "            total_lines += 1\n",
    "            parts = line.strip().split()\n",
    "            classes = parts[1:]\n",
    "            if not classes:  # No vulnerabilities if the list is empty\n",
    "                no_vuln_count += 1\n",
    "    return no_vuln_count, total_lines\n",
    "\n",
    "def main():\n",
    "    input_file = r'C:\\Users\\INTEL\\Desktop\\References\\Data\\ScrawlD-main\\ScrawlD-main\\data\\scrawld_majority_all.txt'  # Change this to your input file name\n",
    "    no_vuln_count, total_lines = count_no_vulnerabilities_and_lines(input_file)\n",
    "    print('Majority')\n",
    "    print(f'Total number of lines: {total_lines}')\n",
    "    print(f'Number of addresses with no vulnerabilities: {no_vuln_count}')\n",
    "\n",
    "if __name__ == '__main__':\n",
    "    main()\n"
   ]
  },
  {
   "cell_type": "code",
   "execution_count": 7,
   "id": "f6e1e69b",
   "metadata": {},
   "outputs": [
    {
     "name": "stdout",
     "output_type": "stream",
     "text": [
      "Total number of unique contracts: 9123\n"
     ]
    }
   ],
   "source": [
    "def count_unique_contracts(file_path):\n",
    "    unique_contracts = set()\n",
    "    with open(file_path, 'r') as file:\n",
    "        for line in file:\n",
    "            parts = line.strip().split()\n",
    "            contract_address = parts[0].replace('_ext.sol', '')\n",
    "            unique_contracts.add(contract_address)\n",
    "    return len(unique_contracts)\n",
    "\n",
    "def main():\n",
    "    input_file = r\"C:\\Users\\INTEL\\Desktop\\References\\Data\\ScrawlD-main\\ScrawlD-main\\data\\scrawld_res_all.txt\"  # Change this to your input file name\n",
    "    unique_contract_count = count_unique_contracts(input_file)\n",
    "    print(f'Total number of unique contracts: {unique_contract_count}')\n",
    "\n",
    "if __name__ == '__main__':\n",
    "    main()\n",
    "\n"
   ]
  },
  {
   "cell_type": "code",
   "execution_count": 5,
   "id": "0501e16b",
   "metadata": {},
   "outputs": [
    {
     "name": "stdout",
     "output_type": "stream",
     "text": [
      "Number of addresses with no vulnerabilities: 0\n"
     ]
    }
   ],
   "source": [
    "def count_addresses_with_no_vulnerabilities(file_path):\n",
    "    # Dictionary to track vulnerabilities for each address\n",
    "    address_vulns = {}\n",
    "\n",
    "    with open(file_path, 'r') as file:\n",
    "        for line in file:\n",
    "            parts = line.strip().split()\n",
    "            address = parts[0].replace('_ext.sol', '')\n",
    "            vulnerability = parts[1]\n",
    "            \n",
    "            # Initialize the address in the dictionary if not already present\n",
    "            if address not in address_vulns:\n",
    "                address_vulns[address] = set()\n",
    "            \n",
    "            # Add the vulnerability to the address's set\n",
    "            address_vulns[address].add(vulnerability)\n",
    "\n",
    "    # Count addresses with no vulnerabilities\n",
    "    no_vuln_count = sum(1 for vulns in address_vulns.values() if not vulns)\n",
    "    \n",
    "    return no_vuln_count\n",
    "\n",
    "def main():\n",
    "    input_file = r\"C:\\Users\\INTEL\\Desktop\\References\\Data\\ScrawlD-main\\ScrawlD-main\\data\\scrawld_res_all.txt\"  # Change this to your input file name\n",
    "    no_vuln_count = count_addresses_with_no_vulnerabilities(input_file)\n",
    "    print(f'Number of addresses with no vulnerabilities: {no_vuln_count}')\n",
    "\n",
    "if __name__ == '__main__':\n",
    "    main()\n"
   ]
  },
  {
   "cell_type": "code",
   "execution_count": 9,
   "id": "762fba01",
   "metadata": {},
   "outputs": [
    {
     "name": "stdout",
     "output_type": "stream",
     "text": [
      "Total number of unique contracts: 9253\n",
      "Unique contract addresses have been saved to contracts.csv\n"
     ]
    }
   ],
   "source": [
    "import csv\n",
    "\n",
    "def extract_unique_contracts(file_path):\n",
    "    unique_contracts = set()\n",
    "    with open(file_path, 'r') as file:\n",
    "        for line in file:\n",
    "            parts = line.strip().split()\n",
    "            contract_address = parts[0].replace('_ext.sol', '')\n",
    "            unique_contracts.add(contract_address)\n",
    "    return unique_contracts\n",
    "\n",
    "def save_to_csv(contract_addresses, output_file):\n",
    "    with open(output_file, 'w', newline='') as csvfile:\n",
    "        writer = csv.writer(csvfile)\n",
    "        writer.writerow(['Contract Address'])\n",
    "        for address in contract_addresses:\n",
    "            writer.writerow([address])\n",
    "\n",
    "def main():\n",
    "    input_file = r\"C:\\Users\\INTEL\\Desktop\\References\\Data\\ScrawlD-main\\ScrawlD-main\\data\\contracts.csv\"  # Change this to your input file name\n",
    "    output_file = 'contracts.csv'  # Change this to your desired output file name\n",
    "    unique_contracts = extract_unique_contracts(input_file)\n",
    "    save_to_csv(unique_contracts, output_file)\n",
    "    print(f'Total number of unique contracts: {len(unique_contracts)}')\n",
    "    print(f'Unique contract addresses have been saved to {output_file}')\n",
    "\n",
    "if __name__ == '__main__':\n",
    "    main()\n"
   ]
  },
  {
   "cell_type": "code",
   "execution_count": 10,
   "id": "9f81c8ce",
   "metadata": {},
   "outputs": [
    {
     "name": "stdout",
     "output_type": "stream",
     "text": [
      "Number of non-vulnerable contracts: 3589\n",
      "Non-vulnerable contract addresses have been saved to non_vulnerable.csv\n"
     ]
    }
   ],
   "source": [
    "import csv\n",
    "\n",
    "def read_addresses_from_csv(csv_file):\n",
    "    addresses = set()\n",
    "    with open(csv_file, 'r', newline='') as csvfile:\n",
    "        reader = csv.reader(csvfile)\n",
    "        next(reader)  # Skip header\n",
    "        for row in reader:\n",
    "            addresses.add(row[0])\n",
    "    return addresses\n",
    "\n",
    "def write_addresses_to_csv(addresses, csv_file):\n",
    "    with open(csv_file, 'w', newline='') as csvfile:\n",
    "        writer = csv.writer(csvfile)\n",
    "        writer.writerow(['Contract Address'])\n",
    "        for address in addresses:\n",
    "            writer.writerow([address])\n",
    "\n",
    "def main():\n",
    "    contracts_csv = 'contracts.csv'\n",
    "    vulnerable_csv = 'vulnerable.csv'\n",
    "    non_vulnerable_csv = 'non_vulnerable.csv'\n",
    "\n",
    "    # Read addresses from contracts.csv and vulnerable.csv\n",
    "    contracts_addresses = read_addresses_from_csv(contracts_csv)\n",
    "    vulnerable_addresses = read_addresses_from_csv(vulnerable_csv)\n",
    "\n",
    "    # Find addresses in contracts.csv that are not in vulnerable.csv\n",
    "    non_vulnerable_addresses = contracts_addresses - vulnerable_addresses\n",
    "\n",
    "    # Write non-vulnerable addresses to non_vulnerable.csv\n",
    "    write_addresses_to_csv(non_vulnerable_addresses, non_vulnerable_csv)\n",
    "\n",
    "    print(f'Number of non-vulnerable contracts: {len(non_vulnerable_addresses)}')\n",
    "    print(f'Non-vulnerable contract addresses have been saved to {non_vulnerable_csv}')\n",
    "\n",
    "if __name__ == '__main__':\n",
    "    main()\n"
   ]
  },
  {
   "cell_type": "code",
   "execution_count": 11,
   "id": "40c301dd",
   "metadata": {},
   "outputs": [
    {
     "name": "stdout",
     "output_type": "stream",
     "text": [
      "Contract vulnerability data has been saved to contract_vulnerable.csv\n"
     ]
    }
   ],
   "source": [
    "import csv\n",
    "\n",
    "def read_addresses_from_csv(csv_file):\n",
    "    addresses = set()\n",
    "    with open(csv_file, 'r', newline='') as csvfile:\n",
    "        reader = csv.reader(csvfile)\n",
    "        next(reader)  # Skip header\n",
    "        for row in reader:\n",
    "            addresses.add(row[0])\n",
    "    return addresses\n",
    "\n",
    "def write_to_csv(contract_addresses, vulnerable_addresses, output_file):\n",
    "    with open(output_file, 'w', newline='') as csvfile:\n",
    "        writer = csv.writer(csvfile)\n",
    "        writer.writerow(['contract', 'vulnerable'])\n",
    "        for address in contract_addresses:\n",
    "            if address in vulnerable_addresses:\n",
    "                writer.writerow([address, '1'])\n",
    "            else:\n",
    "                writer.writerow([address, '0'])\n",
    "\n",
    "def main():\n",
    "    contracts_csv = 'contracts.csv'\n",
    "    vulnerable_csv = 'vulnerable.csv'\n",
    "    output_csv = 'contract_vulnerable.csv'\n",
    "\n",
    "    # Read addresses from contracts.csv and vulnerable.csv\n",
    "    contract_addresses = read_addresses_from_csv(contracts_csv)\n",
    "    vulnerable_addresses = read_addresses_from_csv(vulnerable_csv)\n",
    "\n",
    "    # Write contract addresses and their vulnerability status to output_csv\n",
    "    write_to_csv(contract_addresses, vulnerable_addresses, output_csv)\n",
    "\n",
    "    print(f'Contract vulnerability data has been saved to {output_csv}')\n",
    "\n",
    "if __name__ == '__main__':\n",
    "    main()\n"
   ]
  },
  {
   "cell_type": "code",
   "execution_count": 12,
   "id": "5579d7a9",
   "metadata": {},
   "outputs": [
    {
     "name": "stdout",
     "output_type": "stream",
     "text": [
      "Contract vulnerability data has been saved to contract_vulnerability.csv\n",
      "Number of vulnerable contracts: 5664\n",
      "Number of non-vulnerable contracts: 3589\n"
     ]
    }
   ],
   "source": [
    "import csv\n",
    "\n",
    "def read_addresses_from_csv(csv_file):\n",
    "    addresses = set()\n",
    "    with open(csv_file, 'r', newline='') as csvfile:\n",
    "        reader = csv.reader(csvfile)\n",
    "        next(reader)  # Skip header\n",
    "        for row in reader:\n",
    "            addresses.add(row[0])\n",
    "    return addresses\n",
    "\n",
    "def write_to_csv(contract_addresses, vulnerable_addresses, output_file):\n",
    "    num_vulnerable = 0\n",
    "    num_non_vulnerable = 0\n",
    "    with open(output_file, 'w', newline='') as csvfile:\n",
    "        writer = csv.writer(csvfile)\n",
    "        writer.writerow(['contract', 'vulnerable'])\n",
    "        for address in contract_addresses:\n",
    "            if address in vulnerable_addresses:\n",
    "                writer.writerow([address, '1'])\n",
    "                num_vulnerable += 1\n",
    "            else:\n",
    "                writer.writerow([address, '0'])\n",
    "                num_non_vulnerable += 1\n",
    "    return num_vulnerable, num_non_vulnerable\n",
    "\n",
    "def main():\n",
    "    contracts_csv = 'contracts.csv'\n",
    "    vulnerable_csv = 'vulnerable.csv'\n",
    "    output_csv = 'contract_vulnerability.csv'\n",
    "\n",
    "    # Read addresses from contracts.csv and vulnerable.csv\n",
    "    contract_addresses = read_addresses_from_csv(contracts_csv)\n",
    "    vulnerable_addresses = read_addresses_from_csv(vulnerable_csv)\n",
    "\n",
    "    # Write contract addresses and their vulnerability status to output_csv\n",
    "    num_vulnerable, num_non_vulnerable = write_to_csv(contract_addresses, vulnerable_addresses, output_csv)\n",
    "\n",
    "    print(f'Contract vulnerability data has been saved to {output_csv}')\n",
    "    print(f'Number of vulnerable contracts: {num_vulnerable}')\n",
    "    print(f'Number of non-vulnerable contracts: {num_non_vulnerable}')\n",
    "\n",
    "if __name__ == '__main__':\n",
    "    main()\n"
   ]
  },
  {
   "cell_type": "code",
   "execution_count": null,
   "id": "df3db1a4",
   "metadata": {},
   "outputs": [],
   "source": []
  }
 ],
 "metadata": {
  "kernelspec": {
   "display_name": "ML-KERNEL",
   "language": "python",
   "name": "ml-kernel"
  },
  "language_info": {
   "codemirror_mode": {
    "name": "ipython",
    "version": 3
   },
   "file_extension": ".py",
   "mimetype": "text/x-python",
   "name": "python",
   "nbconvert_exporter": "python",
   "pygments_lexer": "ipython3",
   "version": "3.11.9"
  }
 },
 "nbformat": 4,
 "nbformat_minor": 5
}
